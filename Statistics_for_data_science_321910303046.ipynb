{
  "nbformat": 4,
  "nbformat_minor": 0,
  "metadata": {
    "colab": {
      "name": "Statistics for data science - 321910303046.ipynb",
      "provenance": [],
      "authorship_tag": "ABX9TyN2SCrl36XB4u4WNlrQXj8a",
      "include_colab_link": true
    },
    "kernelspec": {
      "name": "python3",
      "display_name": "Python 3"
    },
    "language_info": {
      "name": "python"
    }
  },
  "cells": [
    {
      "cell_type": "markdown",
      "metadata": {
        "id": "view-in-github",
        "colab_type": "text"
      },
      "source": [
        "<a href=\"https://colab.research.google.com/github/nandaraj2001/Nanda-Rajesh/blob/main/Statistics_for_data_science_321910303046.ipynb\" target=\"_parent\"><img src=\"https://colab.research.google.com/assets/colab-badge.svg\" alt=\"Open In Colab\"/></a>"
      ]
    },
    {
      "cell_type": "code",
      "metadata": {
        "id": "OXi56Oky7UTl",
        "colab": {
          "base_uri": "https://localhost:8080/"
        },
        "outputId": "13eaa61b-05bf-4ae1-d228-99fab56feb61"
      },
      "source": [
        "import pandas as pd\n",
        "import numpy as np\n",
        "import seaborn as sns\n",
        "import matplotlib.pyplot as plt\n",
        "\n",
        "%matplotlib inline\n",
        "%pylab"
      ],
      "execution_count": null,
      "outputs": [
        {
          "output_type": "stream",
          "name": "stdout",
          "text": [
            "Using matplotlib backend: agg\n",
            "Populating the interactive namespace from numpy and matplotlib\n"
          ]
        },
        {
          "output_type": "stream",
          "name": "stderr",
          "text": [
            "/usr/local/lib/python3.7/dist-packages/IPython/core/magics/pylab.py:161: UserWarning: pylab import has clobbered these variables: ['mean', 'f', 'std', 'median']\n",
            "`%matplotlib` prevents importing * from pylab and numpy\n",
            "  \"\\n`%matplotlib` prevents importing * from pylab and numpy\"\n"
          ]
        }
      ]
    },
    {
      "cell_type": "code",
      "metadata": {
        "id": "lrfUjUS673x0"
      },
      "source": [
        "df=pd.DataFrame({'movie':['a','b','c','a','b','c','a','b','c'], 'rating':[9,7,6,9,5,7,8,9,5]})"
      ],
      "execution_count": null,
      "outputs": []
    },
    {
      "cell_type": "code",
      "metadata": {
        "colab": {
          "base_uri": "https://localhost:8080/"
        },
        "id": "TgbKxKG68YbQ",
        "outputId": "dddce19a-5b3a-4a0b-a2e8-062955dde2f4"
      },
      "source": [
        "df.mean()"
      ],
      "execution_count": null,
      "outputs": [
        {
          "output_type": "execute_result",
          "data": {
            "text/plain": [
              "rating    7.222222\n",
              "dtype: float64"
            ]
          },
          "metadata": {},
          "execution_count": 4
        }
      ]
    },
    {
      "cell_type": "code",
      "metadata": {
        "colab": {
          "base_uri": "https://localhost:8080/"
        },
        "id": "pHjVXQmI8jmC",
        "outputId": "68f71395-54a0-419c-9b12-08346732b4f5"
      },
      "source": [
        "df.rating.mean()"
      ],
      "execution_count": null,
      "outputs": [
        {
          "output_type": "execute_result",
          "data": {
            "text/plain": [
              "7.222222222222222"
            ]
          },
          "metadata": {},
          "execution_count": 5
        }
      ]
    },
    {
      "cell_type": "code",
      "metadata": {
        "colab": {
          "base_uri": "https://localhost:8080/",
          "height": 386
        },
        "id": "IcOsRHv98njR",
        "outputId": "f680165f-f2e2-4578-f5b0-acff4e3c21be"
      },
      "source": [
        "sns.displot(df,kde=True,rug=True)\n",
        "plt.axvline(np.mean(df.rating),color='r',linestyle='-')\n",
        "plt.axvline(np.median(df.rating),color='g',linestyle='-')\n",
        "plt.axvline(df.rating.mode().values[0],color='y',linestyle='-')"
      ],
      "execution_count": null,
      "outputs": [
        {
          "output_type": "execute_result",
          "data": {
            "text/plain": [
              "<matplotlib.lines.Line2D at 0x7f0b7a9f6e90>"
            ]
          },
          "metadata": {},
          "execution_count": 6
        },
        {
          "output_type": "display_data",
          "data": {
            "image/png": "[encoded data removed]",
            "text/plain": [
              "<Figure size 425.75x360 with 1 Axes>"
            ]
          },
          "metadata": {
            "needs_background": "light"
          }
        }
      ]
    },
    {
      "cell_type": "code",
      "metadata": {
        "colab": {
          "base_uri": "https://localhost:8080/",
          "height": 279
        },
        "id": "J2RTcPga-RVA",
        "outputId": "8289b3b4-d9cd-42ce-d73a-1b4997022921"
      },
      "source": [
        "f,(ax_box,ax_hist)=plt.subplots(2,sharex=True,gridspec_kw={'height_ratios':(0.2,1)})\n",
        "mean=np.mean(df.rating)\n",
        "median=np.median(df.rating)\n",
        "mode=df.rating.mode().values[0]\n",
        "\n",
        "sns.boxplot(data=df,x=\"rating\",ax=ax_box)\n",
        "ax_box.axvline(mean,color='r',linestyle='-')\n",
        "ax_box.axvline(median,color='g',linestyle='-')\n",
        "ax_box.axvline(mode,color='y',linestyle='-')\n",
        "\n",
        "sns.histplot(data=df,x='rating',ax=ax_hist,kde=True)\n",
        "ax_hist.axvline(mean,color='r',linestyle='-',label=\"Mean\")\n",
        "ax_hist.axvline(median,color='g',linestyle='-',label=\"median\")\n",
        "ax_hist.axvline(mode,color='y',linestyle='-',label='Mode')\n",
        "ax_hist.legend()\n",
        "ax_box.set(xlabel='')\n",
        "plt.show()"
      ],
      "execution_count": null,
      "outputs": [
        {
          "output_type": "display_data",
          "data": {
            "image/png": "[encoded data removed]",
            "text/plain": [
              "<Figure size 432x288 with 2 Axes>"
            ]
          },
          "metadata": {
            "needs_background": "light"
          }
        }
      ]
    },
    {
      "cell_type": "code",
      "metadata": {
        "colab": {
          "base_uri": "https://localhost:8080/"
        },
        "id": "WBQ898NmBPW7",
        "outputId": "2b8df74a-ea2f-41c4-8109-2c5e16d5ebe5"
      },
      "source": [
        "df.rating.var()"
      ],
      "execution_count": null,
      "outputs": [
        {
          "output_type": "execute_result",
          "data": {
            "text/plain": [
              "2.6944444444444446"
            ]
          },
          "metadata": {},
          "execution_count": 8
        }
      ]
    },
    {
      "cell_type": "code",
      "metadata": {
        "colab": {
          "base_uri": "https://localhost:8080/"
        },
        "id": "BegD_52uBSwq",
        "outputId": "941185aa-c1d9-4ba5-e105-101e4f2dbd12"
      },
      "source": [
        "df.rating.std()"
      ],
      "execution_count": null,
      "outputs": [
        {
          "output_type": "execute_result",
          "data": {
            "text/plain": [
              "1.6414763002993509"
            ]
          },
          "metadata": {},
          "execution_count": 9
        }
      ]
    },
    {
      "cell_type": "code",
      "metadata": {
        "colab": {
          "base_uri": "https://localhost:8080/"
        },
        "id": "73__sqMJBWYh",
        "outputId": "28107ea4-6bb0-4846-9bb4-b6beef367648"
      },
      "source": [
        "mean=df.groupby([\"movie\"])['rating'].mean()\n",
        "std=df.groupby([\"movie\"])['rating'].std()\n",
        "\n",
        "mean\n",
        "\n"
      ],
      "execution_count": null,
      "outputs": [
        {
          "output_type": "execute_result",
          "data": {
            "text/plain": [
              "movie\n",
              "a    8.666667\n",
              "b    7.000000\n",
              "c    6.000000\n",
              "Name: rating, dtype: float64"
            ]
          },
          "metadata": {},
          "execution_count": 10
        }
      ]
    },
    {
      "cell_type": "code",
      "metadata": {
        "colab": {
          "base_uri": "https://localhost:8080/"
        },
        "id": "kOoxvEeIB1og",
        "outputId": "e41670ec-7734-48c0-bbd6-f8991960c8a2"
      },
      "source": [
        "std"
      ],
      "execution_count": null,
      "outputs": [
        {
          "output_type": "execute_result",
          "data": {
            "text/plain": [
              "movie\n",
              "a    0.57735\n",
              "b    2.00000\n",
              "c    1.00000\n",
              "Name: rating, dtype: float64"
            ]
          },
          "metadata": {},
          "execution_count": 11
        }
      ]
    },
    {
      "cell_type": "code",
      "metadata": {
        "colab": {
          "base_uri": "https://localhost:8080/",
          "height": 293
        },
        "id": "u5dOSWB6B65V",
        "outputId": "6de2e1f0-b637-4e2f-fb29-34a32ae9b7c7"
      },
      "source": [
        "fig,ax=plt.subplots()\n",
        "mean.plot.bar(yerr=std,ax=ax,capsize=4)"
      ],
      "execution_count": null,
      "outputs": [
        {
          "output_type": "execute_result",
          "data": {
            "text/plain": [
              "<matplotlib.axes._subplots.AxesSubplot at 0x7f0b7a98e810>"
            ]
          },
          "metadata": {},
          "execution_count": 12
        },
        {
          "output_type": "display_data",
          "data": {
            "image/png": "[encoded data removed]",
            "text/plain": [
              "<Figure size 432x288 with 1 Axes>"
            ]
          },
          "metadata": {
            "needs_background": "light"
          }
        }
      ]
    },
    {
      "cell_type": "code",
      "metadata": {
        "id": "PMhUBqOJCUAJ"
      },
      "source": [
        "df1=pd.DataFrame({'pop_sample':range(20)})"
      ],
      "execution_count": null,
      "outputs": []
    },
    {
      "cell_type": "code",
      "metadata": {
        "colab": {
          "base_uri": "https://localhost:8080/"
        },
        "id": "lItV2huNL2Vm",
        "outputId": "0e9096aa-1302-49b5-dbeb-92733fc6058c"
      },
      "source": [
        "df1.sample(5).mean()"
      ],
      "execution_count": null,
      "outputs": [
        {
          "output_type": "execute_result",
          "data": {
            "text/plain": [
              "pop_sample    8.6\n",
              "dtype: float64"
            ]
          },
          "metadata": {},
          "execution_count": 17
        }
      ]
    },
    {
      "cell_type": "code",
      "metadata": {
        "colab": {
          "base_uri": "https://localhost:8080/"
        },
        "id": "rOrODHy9MBij",
        "outputId": "471e045b-2c89-4a30-9409-fb1f138b8ba4"
      },
      "source": [
        "df1.mean()"
      ],
      "execution_count": null,
      "outputs": [
        {
          "output_type": "execute_result",
          "data": {
            "text/plain": [
              "pop_sample    9.5\n",
              "dtype: float64"
            ]
          },
          "metadata": {},
          "execution_count": 16
        }
      ]
    },
    {
      "cell_type": "code",
      "metadata": {
        "colab": {
          "base_uri": "https://localhost:8080/"
        },
        "id": "6ahei4ARMQhL",
        "outputId": "ff9bb8a1-caff-4ccb-aaef-754249027477"
      },
      "source": [
        "from scipy import stats\n",
        "stats.sem(df1)"
      ],
      "execution_count": null,
      "outputs": [
        {
          "output_type": "execute_result",
          "data": {
            "text/plain": [
              "array([1.32287566])"
            ]
          },
          "metadata": {},
          "execution_count": 19
        }
      ]
    },
    {
      "cell_type": "code",
      "metadata": {
        "colab": {
          "base_uri": "https://localhost:8080/",
          "height": 285
        },
        "id": "s92NxRsiXcTs",
        "outputId": "9afe3a1f-b13e-4e91-c705-38ffa781ef49"
      },
      "source": [
        "df2=sns.load_dataset('tips')\n",
        "sns.set_theme(style='whitegrid')\n",
        "ax=sns.boxplot(x='day',y='total_bill',data=df2)"
      ],
      "execution_count": null,
      "outputs": [
        {
          "output_type": "display_data",
          "data": {
            "image/png": "[encoded data removed]",
            "text/plain": [
              "<Figure size 432x288 with 1 Axes>"
            ]
          },
          "metadata": {}
        }
      ]
    },
    {
      "cell_type": "code",
      "metadata": {
        "colab": {
          "base_uri": "https://localhost:8080/",
          "height": 285
        },
        "id": "6_SKZQTWX5fu",
        "outputId": "06570079-9037-4c8a-d184-3499b4d0bb13"
      },
      "source": [
        "ax=sns.boxplot(x='day',y='total_bill',data=df2)\n",
        "ax=sns.swarmplot(x='day',y='total_bill',data=df2,color='0.25')"
      ],
      "execution_count": null,
      "outputs": [
        {
          "output_type": "display_data",
          "data": {
            "image/png": "[encoded data removed]",
            "text/plain": [
              "<Figure size 432x288 with 1 Axes>"
            ]
          },
          "metadata": {}
        }
      ]
    },
    {
      "cell_type": "code",
      "metadata": {
        "colab": {
          "base_uri": "https://localhost:8080/"
        },
        "id": "tqNTy1hQYHHD",
        "outputId": "41d9475b-4a4a-4553-dea6-b06866aca489"
      },
      "source": [
        "print(df2['total_bill'].quantile([0.05,0.25,0.5,0.75]))"
      ],
      "execution_count": null,
      "outputs": [
        {
          "output_type": "stream",
          "name": "stdout",
          "text": [
            "0.05     9.5575\n",
            "0.25    13.3475\n",
            "0.50    17.7950\n",
            "0.75    24.1275\n",
            "Name: total_bill, dtype: float64\n"
          ]
        }
      ]
    },
    {
      "cell_type": "code",
      "metadata": {
        "colab": {
          "base_uri": "https://localhost:8080/"
        },
        "id": "6E8rN-YNYHX0",
        "outputId": "40d36f3f-5f9a-4e9d-9008-7b1c56e67852"
      },
      "source": [
        "print(df2['total_bill'].quantile(0.75)-df2['total_bill'].quantile(0.25))"
      ],
      "execution_count": null,
      "outputs": [
        {
          "output_type": "stream",
          "name": "stdout",
          "text": [
            "10.779999999999998\n"
          ]
        }
      ]
    },
    {
      "cell_type": "code",
      "metadata": {
        "id": "4DzJaGhxYHku"
      },
      "source": [
        "df3=sns.load_dataset('iris')"
      ],
      "execution_count": null,
      "outputs": []
    },
    {
      "cell_type": "code",
      "metadata": {
        "colab": {
          "base_uri": "https://localhost:8080/",
          "height": 437
        },
        "id": "C9ZSIYbqZNIk",
        "outputId": "0261521f-d447-4817-9528-ab8a934537af"
      },
      "source": [
        "fig,ax=plt.subplots(figsize=(6,6))\n",
        "ax=sns.heatmap(df3.corr(),vmin=-1,vmax=1,cmap=sns.diverging_palette(20,220,as_cmap=True))\n",
        "plt.tight_layout()\n",
        "plt.show()"
      ],
      "execution_count": null,
      "outputs": [
        {
          "output_type": "display_data",
          "data": {
            "image/png": "[encoded data removed]",
            "text/plain": [
              "<Figure size 432x432 with 2 Axes>"
            ]
          },
          "metadata": {}
        }
      ]
    },
    {
      "cell_type": "code",
      "metadata": {
        "id": "L8k_6j07ZNO6"
      },
      "source": [
        "a=[11,12,22,11]\n",
        "b=[7,8,9,10]\n",
        "c=[10,11,22,23]\n",
        "arr=np.array([a,b,c])"
      ],
      "execution_count": null,
      "outputs": []
    },
    {
      "cell_type": "code",
      "metadata": {
        "id": "U_Rp9g8rZNUH"
      },
      "source": [
        "cov_matrix=np.cov(arr,bias=True)"
      ],
      "execution_count": null,
      "outputs": []
    },
    {
      "cell_type": "code",
      "metadata": {
        "colab": {
          "base_uri": "https://localhost:8080/"
        },
        "id": "x_SYyazUbg8J",
        "outputId": "db27db72-c04c-4431-893e-e8fa9d6c4eb0"
      },
      "source": [
        "cov_matrix"
      ],
      "execution_count": null,
      "outputs": [
        {
          "output_type": "execute_result",
          "data": {
            "text/plain": [
              "array([[21.5 ,  1.25, 13.75],\n",
              "       [ 1.25,  1.25,  6.25],\n",
              "       [13.75,  6.25, 36.25]])"
            ]
          },
          "metadata": {},
          "execution_count": 41
        }
      ]
    },
    {
      "cell_type": "code",
      "metadata": {
        "colab": {
          "base_uri": "https://localhost:8080/",
          "height": 377
        },
        "id": "kpXDuUq3bhGO",
        "outputId": "a56b0a1d-aa8b-4245-909d-468416a3639d"
      },
      "source": [
        "sns.heatmap(cov_matrix,annot=True,fmt='g')\n",
        "plt.show()"
      ],
      "execution_count": null,
      "outputs": [
        {
          "output_type": "display_data",
          "data": {
            "image/png": "[encoded data removed]",
            "text/plain": [
              "<Figure size 432x432 with 2 Axes>"
            ]
          },
          "metadata": {}
        }
      ]
    },
    {
      "cell_type": "code",
      "metadata": {
        "colab": {
          "base_uri": "https://localhost:8080/"
        },
        "id": "Jg-0-QknbhJr",
        "outputId": "345ac9da-2dac-42be-b21d-60205a719a35"
      },
      "source": [
        "df.skew()"
      ],
      "execution_count": null,
      "outputs": [
        {
          "output_type": "execute_result",
          "data": {
            "text/plain": [
              "rating   -0.23507\n",
              "dtype: float64"
            ]
          },
          "metadata": {},
          "execution_count": 43
        }
      ]
    },
    {
      "cell_type": "code",
      "metadata": {
        "id": "3P6SLrvGcN_v"
      },
      "source": [
        ""
      ],
      "execution_count": null,
      "outputs": []
    },
    {
      "cell_type": "code",
      "metadata": {
        "id": "1e76qn52cOKc"
      },
      "source": [
        ""
      ],
      "execution_count": null,
      "outputs": []
    },
    {
      "cell_type": "code",
      "metadata": {
        "id": "MD0tEuuIcOW1"
      },
      "source": [
        ""
      ],
      "execution_count": null,
      "outputs": []
    },
    {
      "cell_type": "code",
      "metadata": {
        "id": "P9DlG63HZNb8"
      },
      "source": [
        ""
      ],
      "execution_count": null,
      "outputs": []
    },
    {
      "cell_type": "code",
      "metadata": {
        "id": "6v3OJQEkZNf2"
      },
      "source": [
        ""
      ],
      "execution_count": null,
      "outputs": []
    }
  ]
}